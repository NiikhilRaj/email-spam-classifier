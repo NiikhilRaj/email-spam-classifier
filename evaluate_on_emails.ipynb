{
 "cells": [
  {
   "cell_type": "markdown",
   "id": "aef17394",
   "metadata": {},
   "source": [
    "# Evaluate Spam Classifier on Emails\n",
    "\n",
    "This notebook evaluates the trained spam classifier on a dataset of emails, showing predictions and performance metrics.\n",
    "\n",
    "# Evaluating Spam Detection Model on New Email Data\n",
    "\n",
    "This notebook evaluates the trained spam detection model on the new dataset `emails.csv`. It includes data cleaning, transformation, prediction, evaluation, and overfitting checks.\n",
    "\n",
    "## 1. Import Required Libraries\n",
    "Import pandas, numpy, matplotlib, seaborn, nltk, pickle, and sklearn metrics."
   ]
  },
  {
   "cell_type": "code",
   "execution_count": null,
   "id": "b5facd0b",
   "metadata": {},
   "outputs": [],
   "source": [
    "# Import required libraries\n",
    "import pandas as pd\n",
    "import numpy as np\n",
    "import matplotlib.pyplot as plt\n",
    "import seaborn as sns\n",
    "import nltk\n",
    "import pickle\n",
    "from nltk.corpus import stopwords\n",
    "import string\n",
    "from nltk.stem.porter import PorterStemmer\n",
    "from sklearn.metrics import accuracy_score, confusion_matrix, precision_score, classification_report, ConfusionMatrixDisplay, roc_curve, auc\n",
    "from sklearn.model_selection import GridSearchCV, train_test_split\n",
    "from sklearn.pipeline import Pipeline\n",
    "from sklearn.feature_extraction.text import TfidfVectorizer\n",
    "from sklearn.naive_bayes import MultinomialNB\n",
    "\n",
    "# This cell loads the necessary libraries for evaluating the spam classifier on a dataset of emails."
   ]
  },
  {
   "cell_type": "markdown",
   "id": "54e1d07f",
   "metadata": {},
   "source": [
    "## 2. Load and Inspect New Data\n",
    "Load `emails.csv`, display sample rows, and check the shape and info of the DataFrame."
   ]
  },
  {
   "cell_type": "code",
   "execution_count": 25,
   "id": "035e921d",
   "metadata": {},
   "outputs": [
    {
     "data": {
      "text/html": [
       "<div>\n",
       "<style scoped>\n",
       "    .dataframe tbody tr th:only-of-type {\n",
       "        vertical-align: middle;\n",
       "    }\n",
       "\n",
       "    .dataframe tbody tr th {\n",
       "        vertical-align: top;\n",
       "    }\n",
       "\n",
       "    .dataframe thead th {\n",
       "        text-align: right;\n",
       "    }\n",
       "</style>\n",
       "<table border=\"1\" class=\"dataframe\">\n",
       "  <thead>\n",
       "    <tr style=\"text-align: right;\">\n",
       "      <th></th>\n",
       "      <th>text</th>\n",
       "      <th>spam</th>\n",
       "    </tr>\n",
       "  </thead>\n",
       "  <tbody>\n",
       "    <tr>\n",
       "      <th>0</th>\n",
       "      <td>Subject: naturally irresistible your corporate...</td>\n",
       "      <td>1</td>\n",
       "    </tr>\n",
       "    <tr>\n",
       "      <th>1</th>\n",
       "      <td>Subject: the stock trading gunslinger  fanny i...</td>\n",
       "      <td>1</td>\n",
       "    </tr>\n",
       "    <tr>\n",
       "      <th>2</th>\n",
       "      <td>Subject: unbelievable new homes made easy  im ...</td>\n",
       "      <td>1</td>\n",
       "    </tr>\n",
       "    <tr>\n",
       "      <th>3</th>\n",
       "      <td>Subject: 4 color printing special  request add...</td>\n",
       "      <td>1</td>\n",
       "    </tr>\n",
       "    <tr>\n",
       "      <th>4</th>\n",
       "      <td>Subject: do not have money , get software cds ...</td>\n",
       "      <td>1</td>\n",
       "    </tr>\n",
       "  </tbody>\n",
       "</table>\n",
       "</div>"
      ],
      "text/plain": [
       "                                                text  spam\n",
       "0  Subject: naturally irresistible your corporate...     1\n",
       "1  Subject: the stock trading gunslinger  fanny i...     1\n",
       "2  Subject: unbelievable new homes made easy  im ...     1\n",
       "3  Subject: 4 color printing special  request add...     1\n",
       "4  Subject: do not have money , get software cds ...     1"
      ]
     },
     "metadata": {},
     "output_type": "display_data"
    },
    {
     "name": "stdout",
     "output_type": "stream",
     "text": [
      "Shape: (5728, 2)\n",
      "<class 'pandas.core.frame.DataFrame'>\n",
      "RangeIndex: 5728 entries, 0 to 5727\n",
      "Data columns (total 2 columns):\n",
      " #   Column  Non-Null Count  Dtype \n",
      "---  ------  --------------  ----- \n",
      " 0   text    5728 non-null   object\n",
      " 1   spam    5728 non-null   int64 \n",
      "dtypes: int64(1), object(1)\n",
      "memory usage: 89.6+ KB\n"
     ]
    }
   ],
   "source": [
    "# Load the new email dataset\n",
    "df_new = pd.read_csv('emails.csv')\n",
    "display(df_new.head())\n",
    "print('Shape:', df_new.shape)\n",
    "df_new.info()"
   ]
  },
  {
   "cell_type": "markdown",
   "id": "4d3b2c4f",
   "metadata": {},
   "source": [
    "## 3. Clean and Preprocess New Data\n",
    "Rename columns to match previous dataset, encode target labels if needed, check for nulls/duplicates, and drop or fix as appropriate."
   ]
  },
  {
   "cell_type": "code",
   "execution_count": 26,
   "id": "cac7161a",
   "metadata": {},
   "outputs": [
    {
     "name": "stdout",
     "output_type": "stream",
     "text": [
      "Null values per column:\n",
      "text      0\n",
      "target    0\n",
      "dtype: int64\n",
      "Duplicate rows: 33\n"
     ]
    },
    {
     "data": {
      "text/html": [
       "<div>\n",
       "<style scoped>\n",
       "    .dataframe tbody tr th:only-of-type {\n",
       "        vertical-align: middle;\n",
       "    }\n",
       "\n",
       "    .dataframe tbody tr th {\n",
       "        vertical-align: top;\n",
       "    }\n",
       "\n",
       "    .dataframe thead th {\n",
       "        text-align: right;\n",
       "    }\n",
       "</style>\n",
       "<table border=\"1\" class=\"dataframe\">\n",
       "  <thead>\n",
       "    <tr style=\"text-align: right;\">\n",
       "      <th></th>\n",
       "      <th>text</th>\n",
       "      <th>target</th>\n",
       "    </tr>\n",
       "  </thead>\n",
       "  <tbody>\n",
       "    <tr>\n",
       "      <th>0</th>\n",
       "      <td>Subject: naturally irresistible your corporate...</td>\n",
       "      <td>1</td>\n",
       "    </tr>\n",
       "    <tr>\n",
       "      <th>1</th>\n",
       "      <td>Subject: the stock trading gunslinger  fanny i...</td>\n",
       "      <td>1</td>\n",
       "    </tr>\n",
       "    <tr>\n",
       "      <th>2</th>\n",
       "      <td>Subject: unbelievable new homes made easy  im ...</td>\n",
       "      <td>1</td>\n",
       "    </tr>\n",
       "    <tr>\n",
       "      <th>3</th>\n",
       "      <td>Subject: 4 color printing special  request add...</td>\n",
       "      <td>1</td>\n",
       "    </tr>\n",
       "    <tr>\n",
       "      <th>4</th>\n",
       "      <td>Subject: do not have money , get software cds ...</td>\n",
       "      <td>1</td>\n",
       "    </tr>\n",
       "  </tbody>\n",
       "</table>\n",
       "</div>"
      ],
      "text/plain": [
       "                                                text  target\n",
       "0  Subject: naturally irresistible your corporate...       1\n",
       "1  Subject: the stock trading gunslinger  fanny i...       1\n",
       "2  Subject: unbelievable new homes made easy  im ...       1\n",
       "3  Subject: 4 color printing special  request add...       1\n",
       "4  Subject: do not have money , get software cds ...       1"
      ]
     },
     "metadata": {},
     "output_type": "display_data"
    },
    {
     "data": {
      "text/plain": [
       "target\n",
       "0    4327\n",
       "1    1368\n",
       "Name: count, dtype: int64"
      ]
     },
     "execution_count": 26,
     "metadata": {},
     "output_type": "execute_result"
    }
   ],
   "source": [
    "# Rename columns to match previous dataset if needed\n",
    "df_new = df_new.rename(columns={\n",
    "    'text': 'text',\n",
    "    'spam': 'target'\n",
    "})\n",
    "\n",
    "# Check for nulls and duplicates\n",
    "print('Null values per column:')\n",
    "print(df_new.isnull().sum())\n",
    "print('Duplicate rows:', df_new.duplicated().sum())\n",
    "\n",
    "# Drop nulls and duplicates if any\n",
    "df_new = df_new.dropna().drop_duplicates(keep='first')\n",
    "\n",
    "# Ensure target is integer (0=ham, 1=spam)\n",
    "df_new['target'] = df_new['target'].astype(int)\n",
    "display(df_new.head())\n",
    "df_new['target'].value_counts()"
   ]
  },
  {
   "cell_type": "markdown",
   "id": "a5976d5e",
   "metadata": {},
   "source": [
    "## 4. Transform and Vectorize New Data\n",
    "Apply the saved transform_text function to the 'text' column, then use the loaded TfidfVectorizer to transform the text."
   ]
  },
  {
   "cell_type": "code",
   "execution_count": 27,
   "id": "6db08e7a",
   "metadata": {},
   "outputs": [],
   "source": [
    "# Load transform_text and vectorizer\n",
    "stemmer = PorterStemmer()\n",
    "def transform_text(text):\n",
    "    text = text.lower()\n",
    "    text = nltk.word_tokenize(text)\n",
    "    y = []\n",
    "    for i in text:\n",
    "        if i.isalnum():\n",
    "            y.append(i)\n",
    "    text = y[:]\n",
    "    y.clear()\n",
    "    for i in text:\n",
    "        if i not in stopwords.words('english') and i not in string.punctuation:\n",
    "            y.append(i)\n",
    "    text = y[:]\n",
    "    y.clear()\n",
    "    for i in text:\n",
    "        y.append(stemmer.stem(i))\n",
    "    return \" \".join(y)\n",
    "with open('vectorizer.pkl', 'rb') as f:\n",
    "    vectorizer = pickle.load(f)\n",
    "\n",
    "# Apply transform_text to the text column\n",
    "df_new['transformed_text'] = df_new['text'].apply(transform_text)\n",
    "\n",
    "# Vectorize\n",
    "X_new = vectorizer.transform(df_new['transformed_text']).toarray()\n",
    "y_new = df_new['target'].values"
   ]
  },
  {
   "cell_type": "markdown",
   "id": "5c14bee7",
   "metadata": {},
   "source": [
    "## 5. Load Trained Model and Vectorizer\n",
    "Load the trained model, vectorizer, and transform_text function from pickle files."
   ]
  },
  {
   "cell_type": "code",
   "execution_count": 28,
   "id": "e8f09e29",
   "metadata": {},
   "outputs": [],
   "source": [
    "# Load the trained model\n",
    "with open('model.pkl', 'rb') as f:\n",
    "    model = pickle.load(f)"
   ]
  },
  {
   "cell_type": "markdown",
   "id": "9f2d0f61",
   "metadata": {},
   "source": [
    "## 6. Predict and Evaluate on New Data\n",
    "Use the loaded model to predict spam/ham on the new data, then calculate accuracy, confusion matrix, and precision."
   ]
  },
  {
   "cell_type": "code",
   "execution_count": 29,
   "id": "09501a94",
   "metadata": {},
   "outputs": [
    {
     "name": "stdout",
     "output_type": "stream",
     "text": [
      "Accuracy: 0.7680\n",
      "Precision: 0.8052\n",
      "Confusion Matrix:\n",
      " [[4312   15]\n",
      " [1306   62]]\n",
      "\n",
      "Classification Report:\n",
      "               precision    recall  f1-score   support\n",
      "\n",
      "           0       0.77      1.00      0.87      4327\n",
      "           1       0.81      0.05      0.09      1368\n",
      "\n",
      "    accuracy                           0.77      5695\n",
      "   macro avg       0.79      0.52      0.48      5695\n",
      "weighted avg       0.78      0.77      0.68      5695\n",
      "\n"
     ]
    }
   ],
   "source": [
    "# Predict on new data\n",
    "y_pred_new = model.predict(X_new)\n",
    "\n",
    "# Evaluation metrics\n",
    "acc_new = accuracy_score(y_new, y_pred_new)\n",
    "prec_new = precision_score(y_new, y_pred_new)\n",
    "cm_new = confusion_matrix(y_new, y_pred_new)\n",
    "report_new = classification_report(y_new, y_pred_new)\n",
    "\n",
    "print(f\"Accuracy: {acc_new:.4f}\")\n",
    "print(f\"Precision: {prec_new:.4f}\")\n",
    "print(\"Confusion Matrix:\\n\", cm_new)\n",
    "print(\"\\nClassification Report:\\n\", report_new)"
   ]
  },
  {
   "cell_type": "markdown",
   "id": "b36732aa",
   "metadata": {},
   "source": [
    "## 7. Visualize Evaluation Metrics\n",
    "Plot confusion matrix and bar plots for accuracy and precision using matplotlib and seaborn."
   ]
  },
  {
   "cell_type": "code",
   "execution_count": 30,
   "id": "b77091c7",
   "metadata": {},
   "outputs": [
    {
     "data": {
      "image/png": "[encoded data removed]",
      "text/plain": [
       "<Figure size 500x400 with 2 Axes>"
      ]
     },
     "metadata": {},
     "output_type": "display_data"
    },
    {
     "data": {
      "image/png": "[encoded data removed]",
      "text/plain": [
       "<Figure size 640x480 with 1 Axes>"
      ]
     },
     "metadata": {},
     "output_type": "display_data"
    }
   ],
   "source": [
    "# Plot confusion matrix\n",
    "fig, ax = plt.subplots(figsize=(5, 4))\n",
    "sns.heatmap(cm_new, annot=True, fmt='d', cmap='Blues', ax=ax)\n",
    "ax.set_xlabel('Predicted')\n",
    "ax.set_ylabel('Actual')\n",
    "ax.set_title('Confusion Matrix (emails.csv)')\n",
    "plt.show()\n",
    "\n",
    "# Bar plot for accuracy and precision\n",
    "metrics = pd.DataFrame({'Metric': ['Accuracy', 'Precision'], 'Value': [acc_new, prec_new]})\n",
    "sns.barplot(x='Metric', y='Value', data=metrics)\n",
    "plt.ylim(0, 1)\n",
    "plt.title('Model Performance on emails.csv')\n",
    "plt.show()"
   ]
  },
  {
   "cell_type": "markdown",
   "id": "aef6cdcb",
   "metadata": {},
   "source": [
    "## 8. Check for Overfitting\n",
    "Compare accuracy and precision on the new data with those from the training/test set. Discuss and visualize if there is a significant drop indicating overfitting."
   ]
  },
  {
   "cell_type": "code",
   "execution_count": 31,
   "id": "c727f1a8",
   "metadata": {},
   "outputs": [
    {
     "data": {
      "image/png": "[encoded data removed]",
      "text/plain": [
       "<Figure size 640x480 with 1 Axes>"
      ]
     },
     "metadata": {},
     "output_type": "display_data"
    },
    {
     "name": "stdout",
     "output_type": "stream",
     "text": [
      "Test vs New Data Accuracy Drop: 0.191\n",
      "Test vs New Data Precision Drop: 0.195\n",
      "Diagnosis: Possible overfitting detected (significant drop in performance on new data).\n"
     ]
    },
    {
     "data": {
      "image/png": "[encoded data removed]",
      "text/plain": [
       "<Figure size 640x480 with 1 Axes>"
      ]
     },
     "metadata": {},
     "output_type": "display_data"
    },
    {
     "name": "stdout",
     "output_type": "stream",
     "text": [
      "\u001b[91mOverfitting detected: Accuracy drop = 0.20, Precision drop = 0.19\u001b[0m\n"
     ]
    }
   ],
   "source": [
    "# --- Improved Overfitting Check: Use actual train/test metrics from original data ---\n",
    "\n",
    "# Load original dataset\n",
    "df_orig = pd.read_csv('spam.csv', encoding='latin1', on_bad_lines='skip')\n",
    "df_orig = df_orig.drop(columns=['Unnamed: 2','Unnamed: 3', 'Unnamed: 4'], errors='ignore')\n",
    "df_orig = df_orig.rename(columns={'v1':'target', 'v2':'text'})\n",
    "from sklearn.preprocessing import LabelEncoder\n",
    "encoder = LabelEncoder()\n",
    "df_orig['target'] = encoder.fit_transform(df_orig['target'])\n",
    "df_orig = df_orig.drop_duplicates(keep='first')\n",
    "df_orig = df_orig.dropna()\n",
    "df_orig['transformed_text'] = df_orig['text'].apply(transform_text)\n",
    "\n",
    "# Vectorize\n",
    "X_all = vectorizer.transform(df_orig['transformed_text']).toarray()\n",
    "y_all = df_orig['target'].values\n",
    "\n",
    "# Train/test split (same as training notebook)\n",
    "from sklearn.model_selection import train_test_split\n",
    "X_train, X_test, y_train, y_test = train_test_split(X_all, y_all, test_size=0.2, random_state=2)\n",
    "\n",
    "# Load model (already loaded as 'model')\n",
    "# Compute metrics\n",
    "y_pred_train = model.predict(X_train)\n",
    "y_pred_test = model.predict(X_test)\n",
    "\n",
    "acc_train = accuracy_score(y_train, y_pred_train)\n",
    "prec_train = precision_score(y_train, y_pred_train)\n",
    "acc_test = accuracy_score(y_test, y_pred_test)\n",
    "prec_test = precision_score(y_test, y_pred_test)\n",
    "\n",
    "# Compare with new data\n",
    "compare_df = pd.DataFrame({\n",
    "    'Dataset': ['Train', 'Test', 'emails.csv'],\n",
    "    'Accuracy': [acc_train, acc_test, acc_new],\n",
    "    'Precision': [prec_train, prec_test, prec_new]\n",
    "})\n",
    "\n",
    "compare_df_melt = compare_df.melt(id_vars='Dataset', var_name='Metric', value_name='Value')\n",
    "sns.barplot(x='Dataset', y='Value', hue='Metric', data=compare_df_melt)\n",
    "plt.ylim(0, 1)\n",
    "plt.title('Accuracy and Precision Comparison')\n",
    "plt.show()\n",
    "\n",
    "# Automatic overfitting diagnosis\n",
    "def diagnose_overfitting(acc_test, acc_new, prec_test, prec_new, threshold=0.05):\n",
    "    acc_drop = acc_test - acc_new\n",
    "    prec_drop = prec_test - prec_new\n",
    "    print(f\"Test vs New Data Accuracy Drop: {acc_drop:.3f}\")\n",
    "    print(f\"Test vs New Data Precision Drop: {prec_drop:.3f}\")\n",
    "    if acc_drop > threshold or prec_drop > threshold:\n",
    "        print(\"Diagnosis: Possible overfitting detected (significant drop in performance on new data).\")\n",
    "    else:\n",
    "        print(\"Diagnosis: No significant overfitting detected (performance on new data is similar to test set).\")\n",
    "\n",
    "diagnose_overfitting(acc_test, acc_new, prec_test, prec_new)\n",
    "\n",
    "# 8. Check for Overfitting (Improved)\n",
    "# Load and preprocess the original training data\n",
    "train_df = pd.read_csv('spam.csv', encoding='latin1', on_bad_lines='skip')\n",
    "train_df = train_df.drop(columns=['Unnamed: 2','Unnamed: 3', 'Unnamed: 4'], errors='ignore')\n",
    "train_df = train_df.rename(columns={'v1': 'target', 'v2': 'text'})\n",
    "from sklearn.preprocessing import LabelEncoder\n",
    "encoder = LabelEncoder()\n",
    "train_df['target'] = encoder.fit_transform(train_df['target'])\n",
    "train_df = train_df.drop_duplicates(keep='first').dropna()\n",
    "train_df['transformed_text'] = train_df['text'].apply(transform_text)\n",
    "X = vectorizer.transform(train_df['transformed_text']).toarray()\n",
    "y = train_df['target'].values\n",
    "\n",
    "# Split into train/test\n",
    "from sklearn.model_selection import train_test_split\n",
    "X_train, X_test, y_train, y_test = train_test_split(X, y, test_size=0.2, random_state=2)\n",
    "\n",
    "# Predict and evaluate on train and test sets\n",
    "train_pred = model.predict(X_train)\n",
    "test_pred = model.predict(X_test)\n",
    "acc_train = accuracy_score(y_train, train_pred)\n",
    "prec_train = precision_score(y_train, train_pred)\n",
    "acc_test = accuracy_score(y_test, test_pred)\n",
    "prec_test = precision_score(y_test, test_pred)\n",
    "\n",
    "# Compare with new data\n",
    "compare_df = pd.DataFrame({\n",
    "    'Dataset': ['Train', 'Test', 'emails.csv'],\n",
    "    'Accuracy': [acc_train, acc_test, acc_new],\n",
    "    'Precision': [prec_train, prec_test, prec_new]\n",
    "})\n",
    "\n",
    "compare_df = compare_df.melt(id_vars='Dataset', var_name='Metric', value_name='Value')\n",
    "sns.barplot(x='Dataset', y='Value', hue='Metric', data=compare_df)\n",
    "plt.ylim(0, 1)\n",
    "plt.title('Accuracy and Precision Comparison')\n",
    "plt.show()\n",
    "\n",
    "# Automatic overfitting diagnosis\n",
    "acc_drop = acc_train - acc_new\n",
    "prec_drop = prec_train - prec_new\n",
    "threshold = 0.05  # 5% drop is considered significant\n",
    "if acc_drop > threshold or prec_drop > threshold:\n",
    "    print(f\"\\033[91mOverfitting detected: Accuracy drop = {acc_drop:.2f}, Precision drop = {prec_drop:.2f}\\033[0m\")\n",
    "else:\n",
    "    print(f\"\\033[92mNo significant overfitting detected. Accuracy drop = {acc_drop:.2f}, Precision drop = {prec_drop:.2f}\\033[0m\")"
   ]
  },
  {
   "cell_type": "markdown",
   "id": "8da95147",
   "metadata": {},
   "source": [
    "# Hyperparameter Tuning to Reduce Overfitting\n",
    "\n",
    "This section uses GridSearchCV to tune the TfidfVectorizer and MultinomialNB hyperparameters. It then compares the new results with the previous model to check for improvement."
   ]
  },
  {
   "cell_type": "code",
   "execution_count": 32,
   "id": "76c3a217",
   "metadata": {},
   "outputs": [
    {
     "name": "stdout",
     "output_type": "stream",
     "text": [
      "Fitting 3 folds for each of 216 candidates, totalling 648 fits\n",
      "Best parameters: {'clf__alpha': 0.5, 'tfidf__max_df': 0.8, 'tfidf__max_features': 2000, 'tfidf__min_df': 3, 'tfidf__ngram_range': (1, 1)}\n",
      "Best cross-validated accuracy: 0.9789281601543672\n",
      "Tuned Model Accuracy: 0.9798\n",
      "Tuned Model Precision: 0.9723\n",
      "\n",
      "Classification Report:\n",
      "               precision    recall  f1-score   support\n",
      "\n",
      "           0       0.98      0.99      0.99       843\n",
      "           1       0.97      0.95      0.96       296\n",
      "\n",
      "    accuracy                           0.98      1139\n",
      "   macro avg       0.98      0.97      0.97      1139\n",
      "weighted avg       0.98      0.98      0.98      1139\n",
      "\n",
      "Best parameters: {'clf__alpha': 0.5, 'tfidf__max_df': 0.8, 'tfidf__max_features': 2000, 'tfidf__min_df': 3, 'tfidf__ngram_range': (1, 1)}\n",
      "Best cross-validated accuracy: 0.9789281601543672\n",
      "Tuned Model Accuracy: 0.9798\n",
      "Tuned Model Precision: 0.9723\n",
      "\n",
      "Classification Report:\n",
      "               precision    recall  f1-score   support\n",
      "\n",
      "           0       0.98      0.99      0.99       843\n",
      "           1       0.97      0.95      0.96       296\n",
      "\n",
      "    accuracy                           0.98      1139\n",
      "   macro avg       0.98      0.97      0.97      1139\n",
      "weighted avg       0.98      0.98      0.98      1139\n",
      "\n"
     ]
    }
   ],
   "source": [
    "\n",
    "\n",
    "# Define pipeline for vectorizer + classifier\n",
    "pipeline = Pipeline([\n",
    "    ('tfidf', TfidfVectorizer()),\n",
    "    ('clf', MultinomialNB())\n",
    "])\n",
    "\n",
    "# Define parameter grid\n",
    "param_grid = {\n",
    "    'tfidf__max_features': [500, 1000, 2000],\n",
    "    'tfidf__min_df': [1, 2, 3],\n",
    "    'tfidf__max_df': [0.8, 0.9, 1.0],\n",
    "    'tfidf__ngram_range': [(1,1), (1,2)],\n",
    "    'clf__alpha': [0.5, 1.0, 2.0, 5.0]\n",
    "}\n",
    "\n",
    "# Prepare data\n",
    "X = df_new['text'].apply(transform_text)\n",
    "y = df_new['target']\n",
    "\n",
    "# Split for validation\n",
    "X_train, X_test, y_train, y_test = train_test_split(X, y, test_size=0.2, random_state=42)\n",
    "\n",
    "# Grid search\n",
    "grid = GridSearchCV(pipeline, param_grid, cv=3, scoring='accuracy', n_jobs=-1, verbose=1)\n",
    "grid.fit(X_train, y_train)\n",
    "\n",
    "print('Best parameters:', grid.best_params_)\n",
    "print('Best cross-validated accuracy:', grid.best_score_)\n",
    "\n",
    "# Evaluate on test set\n",
    "y_pred = grid.predict(X_test)\n",
    "acc_tuned = accuracy_score(y_test, y_pred)\n",
    "prec_tuned = precision_score(y_test, y_pred)\n",
    "print(f\"Tuned Model Accuracy: {acc_tuned:.4f}\")\n",
    "print(f\"Tuned Model Precision: {prec_tuned:.4f}\")\n",
    "print(\"\\nClassification Report:\\n\", classification_report(y_test, y_pred))"
   ]
  },
  {
   "cell_type": "markdown",
   "id": "42953bcf",
   "metadata": {},
   "source": [
    "## Compare Tuned Model with Previous Model\n",
    "\n",
    "The following cell compares the accuracy and precision of the tuned model with the previous model on the same test set."
   ]
  },
  {
   "cell_type": "code",
   "execution_count": 33,
   "id": "0d80ccf8",
   "metadata": {},
   "outputs": [
    {
     "data": {
      "image/png": "[encoded data removed]",
      "text/plain": [
       "<Figure size 640x480 with 1 Axes>"
      ]
     },
     "metadata": {},
     "output_type": "display_data"
    }
   ],
   "source": [
    "# Previous model's performance (from earlier evaluation)\n",
    "acc_prev = acc_new\n",
    "prec_prev = prec_new\n",
    "\n",
    "# Compare\n",
    "compare_df = pd.DataFrame({\n",
    "    'Model': ['Previous', 'Tuned'],\n",
    "    'Accuracy': [acc_prev, acc_tuned],\n",
    "    'Precision': [prec_prev, prec_tuned]\n",
    "})\n",
    "\n",
    "compare_df = compare_df.melt(id_vars='Model', var_name='Metric', value_name='Value')\n",
    "sns.barplot(x='Model', y='Value', hue='Metric', data=compare_df)\n",
    "plt.ylim(0, 1)\n",
    "plt.title('Previous vs Tuned Model Performance')\n",
    "plt.show()"
   ]
  }
 ],
 "metadata": {
  "kernelspec": {
   "display_name": "Python 3",
   "language": "python",
   "name": "python3"
  },
  "language_info": {
   "codemirror_mode": {
    "name": "ipython",
    "version": 3
   },
   "file_extension": ".py",
   "mimetype": "text/x-python",
   "name": "python",
   "nbconvert_exporter": "python",
   "pygments_lexer": "ipython3",
   "version": "3.13.3"
  }
 },
 "nbformat": 4,
 "nbformat_minor": 5
}
